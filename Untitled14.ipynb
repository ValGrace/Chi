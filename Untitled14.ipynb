{
  "nbformat": 4,
  "nbformat_minor": 0,
  "metadata": {
    "colab": {
      "provenance": [],
      "authorship_tag": "ABX9TyMJiSKcc5/yzzVh9/rmFn14",
      "include_colab_link": true
    },
    "kernelspec": {
      "name": "python3",
      "display_name": "Python 3"
    },
    "language_info": {
      "name": "python"
    }
  },
  "cells": [
    {
      "cell_type": "markdown",
      "metadata": {
        "id": "view-in-github",
        "colab_type": "text"
      },
      "source": [
        "<a href=\"https://colab.research.google.com/github/ValGrace/Chi/blob/main/Untitled14.ipynb\" target=\"_parent\"><img src=\"https://colab.research.google.com/assets/colab-badge.svg\" alt=\"Open In Colab\"/></a>"
      ]
    },
    {
      "cell_type": "code",
      "execution_count": null,
      "metadata": {
        "colab": {
          "base_uri": "https://localhost:8080/",
          "height": 367
        },
        "collapsed": true,
        "id": "73ZzipsyYzM6",
        "outputId": "9d1433fc-0534-47df-aa58-a5d655e46a33"
      },
      "outputs": [
        {
          "output_type": "error",
          "ename": "ModuleNotFoundError",
          "evalue": "No module named 'mmh3'",
          "traceback": [
            "\u001b[0;31m---------------------------------------------------------------------------\u001b[0m",
            "\u001b[0;31mModuleNotFoundError\u001b[0m                       Traceback (most recent call last)",
            "\u001b[0;32m<ipython-input-3-5fc99c96f591>\u001b[0m in \u001b[0;36m<cell line: 0>\u001b[0;34m()\u001b[0m\n\u001b[1;32m      1\u001b[0m \u001b[0;31m# Calculate favicon.ico hash\u001b[0m\u001b[0;34m\u001b[0m\u001b[0;34m\u001b[0m\u001b[0m\n\u001b[0;32m----> 2\u001b[0;31m \u001b[0;32mimport\u001b[0m \u001b[0mmmh3\u001b[0m\u001b[0;34m\u001b[0m\u001b[0;34m\u001b[0m\u001b[0m\n\u001b[0m\u001b[1;32m      3\u001b[0m \u001b[0;32mimport\u001b[0m \u001b[0mrequests\u001b[0m\u001b[0;34m\u001b[0m\u001b[0;34m\u001b[0m\u001b[0m\n\u001b[1;32m      4\u001b[0m \u001b[0;32mimport\u001b[0m \u001b[0mcodecs\u001b[0m\u001b[0;34m\u001b[0m\u001b[0;34m\u001b[0m\u001b[0m\n",
            "\u001b[0;31mModuleNotFoundError\u001b[0m: No module named 'mmh3'",
            "",
            "\u001b[0;31m---------------------------------------------------------------------------\u001b[0;32m\nNOTE: If your import is failing due to a missing package, you can\nmanually install dependencies using either !pip or !apt.\n\nTo view examples of installing some common dependencies, click the\n\"Open Examples\" button below.\n\u001b[0;31m---------------------------------------------------------------------------\u001b[0m\n"
          ],
          "errorDetails": {
            "actions": [
              {
                "action": "open_url",
                "actionText": "Open Examples",
                "url": "/notebooks/snippets/importing_libraries.ipynb"
              }
            ]
          }
        }
      ],
      "source": [
        "# prompt: code to retrieve favicon.ico hash\n",
        "\n",
        "import requests\n",
        "import hashlib\n",
        "\n",
        "def get_favicon_hash(url):\n",
        "    \"\"\"\n",
        "    Retrieves the favicon.ico from a given URL and returns its SHA-256 hash.\n",
        "\n",
        "    Args:\n",
        "        url: The URL of the website.\n",
        "\n",
        "    Returns:\n",
        "        The SHA-256 hash of the favicon.ico as a hexadecimal string,\n",
        "        or None if the favicon cannot be retrieved or an error occurs.\n",
        "    \"\"\"\n",
        "    try:\n",
        "        favicon_url = f\"{url}/favicon.ico\"  # Construct the favicon URL\n",
        "        response = requests.get(favicon_url, stream=True, timeout=5)  # Fetch favicon with timeout\n",
        "        response.raise_for_status()  # Raise an exception for bad status codes\n",
        "\n",
        "        favicon_content = response.content\n",
        "        favicon_hash = hashlib.sha256(favicon_content).hexdigest()\n",
        "        return favicon_hash\n",
        "    except requests.exceptions.RequestException as e:\n",
        "        print(f\"Error retrieving favicon: {e}\")\n",
        "        return None\n",
        "    except Exception as e:\n",
        "        print(f\"An unexpected error occurred: {e}\")\n",
        "        return None\n",
        "\n",
        "# Example usage\n",
        "website_url = \"https://www.example.com\"  # Replace with the desired website URL\n",
        "favicon_hash = get_favicon_hash(website_url)\n",
        "\n",
        "if favicon_hash:\n",
        "    print(f\"The SHA-256 hash of the favicon for {website_url} is: {favicon_hash}\")\n"
      ]
    },
    {
      "cell_type": "code",
      "source": [
        "import requests\n",
        "import hashlib"
      ],
      "metadata": {
        "id": "vDTqoEHiZHTr"
      },
      "execution_count": 1,
      "outputs": []
    },
    {
      "cell_type": "code",
      "source": [
        "website_url = \"https://loop.co.ke\"  # Replace with the desired website URL\n",
        "favicon_url = f\"{website_url}/favicon.ico\"\n"
      ],
      "metadata": {
        "id": "3kcMx6QPaFXV"
      },
      "execution_count": 2,
      "outputs": []
    },
    {
      "cell_type": "code",
      "source": [
        "response = requests.get(favicon_url, stream=True, timeout=5) # Fetch Favicon\n"
      ],
      "metadata": {
        "id": "WIKB3BEJbHPs"
      },
      "execution_count": 3,
      "outputs": []
    },
    {
      "cell_type": "code",
      "source": [
        "favicon_content = response.content\n",
        "favicon_hash = hashlib.sha256(favicon_content).hexdigest()"
      ],
      "metadata": {
        "id": "H3qhpjRHbgU2"
      },
      "execution_count": 4,
      "outputs": []
    },
    {
      "cell_type": "code",
      "source": [
        "print(favicon_hash)"
      ],
      "metadata": {
        "colab": {
          "base_uri": "https://localhost:8080/"
        },
        "id": "CiAbmZyObyqd",
        "outputId": "30d2e023-64e9-47df-8e6f-36e3ea479ea6"
      },
      "execution_count": 5,
      "outputs": [
        {
          "output_type": "stream",
          "name": "stdout",
          "text": [
            "6bdb369337ac2496761c6f063bffea0aa6a91d4662279c399071a468251f51f0\n"
          ]
        }
      ]
    },
    {
      "cell_type": "code",
      "source": [
        "!pip install mmh3"
      ],
      "metadata": {
        "colab": {
          "base_uri": "https://localhost:8080/"
        },
        "collapsed": true,
        "id": "sNhtpWSgldsI",
        "outputId": "0cbf86c8-05ba-4f73-d00d-91fc719d1629"
      },
      "execution_count": 6,
      "outputs": [
        {
          "output_type": "stream",
          "name": "stdout",
          "text": [
            "Collecting mmh3\n",
            "  Downloading mmh3-5.1.0-cp311-cp311-manylinux_2_5_x86_64.manylinux1_x86_64.manylinux_2_17_x86_64.manylinux2014_x86_64.whl.metadata (16 kB)\n",
            "Downloading mmh3-5.1.0-cp311-cp311-manylinux_2_5_x86_64.manylinux1_x86_64.manylinux_2_17_x86_64.manylinux2014_x86_64.whl (101 kB)\n",
            "\u001b[?25l   \u001b[90m━━━━━━━━━━━━━━━━━━━━━━━━━━━━━━━━━━━━━━━━\u001b[0m \u001b[32m0.0/101.6 kB\u001b[0m \u001b[31m?\u001b[0m eta \u001b[36m-:--:--\u001b[0m\r\u001b[2K   \u001b[90m━━━━━━━━━━━━━━━━━━━━━━━━━━━━━━━━━━━━━━━━\u001b[0m \u001b[32m101.6/101.6 kB\u001b[0m \u001b[31m2.9 MB/s\u001b[0m eta \u001b[36m0:00:00\u001b[0m\n",
            "\u001b[?25hInstalling collected packages: mmh3\n",
            "Successfully installed mmh3-5.1.0\n"
          ]
        }
      ]
    },
    {
      "cell_type": "code",
      "source": [
        "import mmh3\n",
        "import codecs"
      ],
      "metadata": {
        "id": "xlaQaYnFlldm"
      },
      "execution_count": 7,
      "outputs": []
    },
    {
      "cell_type": "code",
      "source": [
        "fac = codecs.encode(favicon_content, 'base64')\n",
        "hash = mmh3.hash(fac)\n",
        "print(hash)"
      ],
      "metadata": {
        "colab": {
          "base_uri": "https://localhost:8080/"
        },
        "id": "fmZaL0Dflqob",
        "outputId": "0888d7d4-c9f7-4073-ae64-f9f344309942"
      },
      "execution_count": 8,
      "outputs": [
        {
          "output_type": "stream",
          "name": "stdout",
          "text": [
            "1198047028\n"
          ]
        }
      ]
    },
    {
      "cell_type": "code",
      "source": [
        "from PIL import Image\n",
        "new_image = Image.new('RGB', (256, 256), color = 'red')"
      ],
      "metadata": {
        "id": "g7JHTe-itU4T"
      },
      "execution_count": 9,
      "outputs": []
    },
    {
      "cell_type": "code",
      "source": [
        "print(new_image)"
      ],
      "metadata": {
        "colab": {
          "base_uri": "https://localhost:8080/"
        },
        "id": "gjBeVLLzufHw",
        "outputId": "43e7891d-c9b0-49d1-e629-faa24c166b91"
      },
      "execution_count": 10,
      "outputs": [
        {
          "output_type": "stream",
          "name": "stdout",
          "text": [
            "<PIL.Image.Image image mode=RGB size=256x256 at 0x7A8346B052D0>\n"
          ]
        }
      ]
    },
    {
      "cell_type": "markdown",
      "source": [],
      "metadata": {
        "id": "NGVDKhngupdu"
      }
    }
  ]
}